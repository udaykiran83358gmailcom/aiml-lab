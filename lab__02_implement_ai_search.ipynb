{
  "nbformat": 4,
  "nbformat_minor": 0,
  "metadata": {
    "colab": {
      "provenance": [],
      "authorship_tag": "ABX9TyMi/eYqf9z0F4ugwQs9kSuG",
      "include_colab_link": true
    },
    "kernelspec": {
      "name": "python3",
      "display_name": "Python 3"
    },
    "language_info": {
      "name": "python"
    }
  },
  "cells": [
    {
      "cell_type": "markdown",
      "metadata": {
        "id": "view-in-github",
        "colab_type": "text"
      },
      "source": [
        "<a href=\"https://colab.research.google.com/github/udaykiran83358gmailcom/aiml-lab/blob/main/lab__02_implement_ai_search.ipynb\" target=\"_parent\"><img src=\"https://colab.research.google.com/assets/colab-badge.svg\" alt=\"Open In Colab\"/></a>"
      ]
    },
    {
      "cell_type": "code",
      "execution_count": null,
      "metadata": {
        "id": "KG2pAaf6n8oQ"
      },
      "outputs": [],
      "source": [
        "##  part 01implement bfs algorithm"
      ]
    },
    {
      "cell_type": "code",
      "source": [
        "from numpy import *"
      ],
      "metadata": {
        "id": "IyZrpZgDoCzz"
      },
      "execution_count": null,
      "outputs": []
    },
    {
      "cell_type": "code",
      "source": [
        "from queue import Queue\n",
        "graph={0:[1,3],1:[0,2,3],2:[4,1,5],3:[4,0,1],4:[2,3,5],5:[4,2],6:[]}\n",
        "print(f'the adjacency list is representing the graph {graph}')"
      ],
      "metadata": {
        "colab": {
          "base_uri": "https://localhost:8080/"
        },
        "id": "1zc7cwC1oKiK",
        "outputId": "f4752a7a-d3ee-4090-f34d-8dc95a1578fe"
      },
      "execution_count": null,
      "outputs": [
        {
          "output_type": "stream",
          "name": "stdout",
          "text": [
            " the adjacency list is representing the graph {0: [1, 3], 1: [0, 2, 3], 2: [4, 1, 5], 3: [4, 0, 1], 4: [2, 3, 5], 5: [4, 2], 6: []}\n"
          ]
        }
      ]
    },
    {
      "cell_type": "code",
      "source": [
        "def bfs(graph,source):\n",
        "  Q=Queue()\n",
        "  visited_vertices=set()\n",
        "  Q.put(source)\n",
        "  visited_vertices.update({1})\n",
        "  while not Q.empty():\n",
        "    vertex=Q.get()\n",
        "    print(vertex,end=\"-->\")\n",
        "    for u in graph[vertex]:\n",
        "      if u not in  visited_vertices:\n",
        "        Q.put(u)\n",
        "        visited_vertices.update({u})\n",
        "print(\"bfs traversal of graph with source 1\")\n",
        "bfs(graph,1)\n"
      ],
      "metadata": {
        "colab": {
          "base_uri": "https://localhost:8080/"
        },
        "id": "d0hRFCpXoVBJ",
        "outputId": "9d52cbca-cec0-4ff7-8f6a-ca8703a4072b"
      },
      "execution_count": null,
      "outputs": [
        {
          "output_type": "stream",
          "name": "stdout",
          "text": [
            "bfs traversal of graph with source 1\n",
            "1-->0-->2-->3-->4-->5-->"
          ]
        }
      ]
    },
    {
      "cell_type": "markdown",
      "source": [
        "# part 2 implement depth first search alogorith"
      ],
      "metadata": {
        "id": "Cdpe_wbyryBy"
      }
    },
    {
      "cell_type": "code",
      "source": [
        "#from stack import Stack\n",
        "graphs={'a':['b','s'],'b':['a'],'c':['s','e','f','d'],'d':['c','e'],'e':['h','c'],'f':['c','g'],'g':['s','f','h'],'h':['e','g'],'s':['a','c','g']}\n",
        "print(f'the adjacency list is representing the graph {graphs}')"
      ],
      "metadata": {
        "colab": {
          "base_uri": "https://localhost:8080/"
        },
        "id": "etZNxVubwv6H",
        "outputId": "df992daa-87f2-485d-fd1d-64676bdf7b51"
      },
      "execution_count": null,
      "outputs": [
        {
          "output_type": "stream",
          "name": "stdout",
          "text": [
            "the adjacency list is representing the graph {'a': ['b', 's'], 'b': ['a'], 'c': ['s', 'e', 'f', 'd'], 'd': ['c', 'e'], 'e': ['h', 'c'], 'f': ['c', 'g'], 'g': ['s', 'f', 'h'], 'h': ['e', 'g'], 's': ['a', 'c', 'g']}\n"
          ]
        }
      ]
    },
    {
      "cell_type": "code",
      "source": [
        "def dfs(graphs,node,visited):\n",
        "  if node not in visited:\n",
        "    visited.append(node)\n",
        "    for k in graphs[node]:\n",
        "      dfs(graphs,k,visited)\n",
        "  return visited\n",
        "visited=dfs(graphs,'d',[])\n",
        "print(visited)\n"
      ],
      "metadata": {
        "colab": {
          "base_uri": "https://localhost:8080/"
        },
        "id": "T6OY7x-_zfKE",
        "outputId": "8e4e28e8-14a0-4c72-de7c-5253c9963d5b"
      },
      "execution_count": null,
      "outputs": [
        {
          "output_type": "stream",
          "name": "stdout",
          "text": [
            "['d', 'c', 's', 'a', 'b', 'g', 'f', 'h', 'e']\n"
          ]
        }
      ]
    },
    {
      "cell_type": "code",
      "source": [
        "part 3 implemetation of a* algorithm"
      ],
      "metadata": {
        "id": "hgSnUKGN3fR2"
      },
      "execution_count": null,
      "outputs": []
    },
    {
      "cell_type": "markdown",
      "source": [],
      "metadata": {
        "id": "_kNfbKrD3gSj"
      }
    },
    {
      "cell_type": "code",
      "source": [],
      "metadata": {
        "id": "cTQ3hm9j3nbh"
      },
      "execution_count": null,
      "outputs": []
    }
  ]
}