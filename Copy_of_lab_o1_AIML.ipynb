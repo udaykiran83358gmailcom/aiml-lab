{
  "nbformat": 4,
  "nbformat_minor": 0,
  "metadata": {
    "colab": {
      "provenance": [],
      "authorship_tag": "ABX9TyPY2NBZDDGDKVej4dZ6+uKL",
      "include_colab_link": true
    },
    "kernelspec": {
      "name": "python3",
      "display_name": "Python 3"
    },
    "language_info": {
      "name": "python"
    }
  },
  "cells": [
    {
      "cell_type": "markdown",
      "metadata": {
        "id": "view-in-github",
        "colab_type": "text"
      },
      "source": [
        "<a href=\"https://colab.research.google.com/github/udaykiran83358gmailcom/aiml-lab/blob/main/Copy_of_lab_o1_AIML.ipynb\" target=\"_parent\"><img src=\"https://colab.research.google.com/assets/colab-badge.svg\" alt=\"Open In Colab\"/></a>"
      ]
    },
    {
      "cell_type": "code",
      "execution_count": null,
      "metadata": {
        "id": "CVaKMxDle_cX"
      },
      "outputs": [],
      "source": []
    },
    {
      "cell_type": "markdown",
      "source": [
        "##lab_01_activity one : implement basic data structures using numpy and pandas"
      ],
      "metadata": {
        "id": "AAk1P3b8foup"
      }
    },
    {
      "cell_type": "code",
      "source": [
        "from numpy import *\n",
        "list1=[1,2,30]\n",
        "array1=array(list1)\n",
        "type(array1)\n",
        "\n"
      ],
      "metadata": {
        "colab": {
          "base_uri": "https://localhost:8080/"
        },
        "id": "DN_QgWMKgFPg",
        "outputId": "1b3910d4-427a-4dab-8592-5ae2ddd34695"
      },
      "execution_count": null,
      "outputs": [
        {
          "output_type": "execute_result",
          "data": {
            "text/plain": [
              "numpy.ndarray"
            ]
          },
          "metadata": {},
          "execution_count": 1
        }
      ]
    },
    {
      "cell_type": "code",
      "source": [
        "type(array1)"
      ],
      "metadata": {
        "colab": {
          "base_uri": "https://localhost:8080/"
        },
        "id": "RmN8g97xhIkA",
        "outputId": "5804d92c-68c1-4316-f5d5-e71bbede53b6"
      },
      "execution_count": null,
      "outputs": [
        {
          "output_type": "execute_result",
          "data": {
            "text/plain": [
              "numpy.ndarray"
            ]
          },
          "metadata": {},
          "execution_count": 4
        }
      ]
    },
    {
      "cell_type": "code",
      "source": [
        "list2=[3,2,1]\n",
        "array2=array(list2)\n",
        "print(array1)\n",
        "print(array1+array2)\n",
        "\n",
        "\n"
      ],
      "metadata": {
        "colab": {
          "base_uri": "https://localhost:8080/"
        },
        "id": "okcZ1zFYho07",
        "outputId": "cbc501f6-21fe-4931-ad22-edfcd22a4001"
      },
      "execution_count": null,
      "outputs": [
        {
          "output_type": "stream",
          "name": "stdout",
          "text": [
            "[ 1  2 30]\n",
            "[ 4  4 31]\n"
          ]
        }
      ]
    },
    {
      "cell_type": "code",
      "source": [
        "print(f'the addition is {array1+array2}')"
      ],
      "metadata": {
        "colab": {
          "base_uri": "https://localhost:8080/"
        },
        "id": "DCl8PMQMlCr_",
        "outputId": "84a99e71-03b5-4249-fcca-72376fbdd60d"
      },
      "execution_count": null,
      "outputs": [
        {
          "output_type": "stream",
          "name": "stdout",
          "text": [
            "the addition is [4 4 4]\n"
          ]
        }
      ]
    },
    {
      "cell_type": "code",
      "source": [
        "print(f'sin value of array1:,{sin(array1)}')"
      ],
      "metadata": {
        "colab": {
          "base_uri": "https://localhost:8080/"
        },
        "id": "SUupnygylpRC",
        "outputId": "15d7da4e-4a4c-4b8c-efb0-4f1b65d189be"
      },
      "execution_count": null,
      "outputs": [
        {
          "output_type": "stream",
          "name": "stdout",
          "text": [
            "sin value of array1:,[ 0.84147098  0.90929743 -0.98803162]\n"
          ]
        }
      ]
    },
    {
      "cell_type": "code",
      "source": [
        "print(f'exponent of array1:{exp(array1)}')"
      ],
      "metadata": {
        "colab": {
          "base_uri": "https://localhost:8080/"
        },
        "id": "d7SmYCdpmJWg",
        "outputId": "f8709b97-5caf-495a-a803-35c887d6870c"
      },
      "execution_count": null,
      "outputs": [
        {
          "output_type": "stream",
          "name": "stdout",
          "text": [
            "exponent of array1:[2.71828183e+00 7.38905610e+00 1.06864746e+13]\n"
          ]
        }
      ]
    },
    {
      "cell_type": "code",
      "source": [],
      "metadata": {
        "id": "_VPBtVFxmbFO"
      },
      "execution_count": null,
      "outputs": []
    },
    {
      "cell_type": "code",
      "source": [
        "##how to implement data from different sources"
      ],
      "metadata": {
        "id": "6uPJ4Rwmji8Y"
      },
      "execution_count": null,
      "outputs": []
    },
    {
      "cell_type": "code",
      "source": [
        "from numpy import *\n",
        "from pandas import*\n",
        "import nbconvert\n",
        "df1=read_table(\"lab01.txt\")\n",
        "print(df1)\n",
        "\n",
        "\n"
      ],
      "metadata": {
        "id": "QpIBux711DWS"
      },
      "execution_count": null,
      "outputs": []
    },
    {
      "cell_type": "code",
      "source": [
        "people=['uday','kiran','naveen','kumar']\n",
        "age=[12,13,14,15]\n",
        "weight=[30,40,50,50]\n",
        "height=[100,150,200,250]"
      ],
      "metadata": {
        "id": "c08m7tJ81nxv"
      },
      "execution_count": null,
      "outputs": []
    },
    {
      "cell_type": "code",
      "source": [
        "from matplotlib.pyplot import*\n"
      ],
      "metadata": {
        "id": "NFNA6ZqIjuAq"
      },
      "execution_count": null,
      "outputs": []
    },
    {
      "cell_type": "code",
      "source": [
        "scatter(weight,height)\n",
        "title(\"scatterd graph\")\n",
        "xlabel(\"height\")\n",
        "ylabel(\"weight\")\n",
        "show()"
      ],
      "metadata": {
        "colab": {
          "base_uri": "https://localhost:8080/",
          "height": 472
        },
        "id": "IsdYmeM9hZi9",
        "outputId": "9d486cb4-dab1-458a-8e6d-06b99bc3d05f"
      },
      "execution_count": null,
      "outputs": [
        {
          "output_type": "display_data",
          "data": {
            "text/plain": [
              "<Figure size 640x480 with 1 Axes>"
            ],
            "image/png": "[encoded data removed]"
          },
          "metadata": {}
        }
      ]
    },
    {
      "cell_type": "code",
      "source": [
        "figure(figsize=(12,4))\n",
        "title(\"peoples weight\")\n",
        "people=['uday','kiran','naveen','kumar']\n",
        "bar(x=people,height=height,width=0.6,color='orange')\n",
        "#xlabel(\"people weight\")\n",
        "#ylabel(\"height\")\n",
        "show()"
      ],
      "metadata": {
        "colab": {
          "base_uri": "https://localhost:8080/",
          "height": 391
        },
        "id": "Y-uhCblQhhF9",
        "outputId": "4b57e49c-b452-49dd-b439-b5a1b7c96350"
      },
      "execution_count": null,
      "outputs": [
        {
          "output_type": "display_data",
          "data": {
            "text/plain": [
              "<Figure size 1200x400 with 1 Axes>"
            ],
            "image/png": "[encoded data removed]"
          },
          "metadata": {}
        }
      ]
    },
    {
      "cell_type": "code",
      "source": [
        "from matplotlib.pyplot import *\n",
        "figure(figsize=(7,5))\n",
        "weight=[30,40,50,50]\n",
        "hist(weight,color=\"red\",edgecolor='k',alpha=0.75,bins=7)\n",
        "title(\"histogram of patient weights\")\n",
        "xlabel(\"weight in kgs\")\n",
        "ylabel(\"height\")\n",
        "show()"
      ],
      "metadata": {
        "colab": {
          "base_uri": "https://localhost:8080/",
          "height": 487
        },
        "id": "SeA0c5OEhna5",
        "outputId": "b7c4521b-1217-416d-e105-d6d2c713ce10"
      },
      "execution_count": null,
      "outputs": [
        {
          "output_type": "display_data",
          "data": {
            "text/plain": [
              "<Figure size 700x500 with 1 Axes>"
            ],
            "image/png": "[encoded data removed]"
          },
          "metadata": {}
        }
      ]
    },
    {
      "cell_type": "code",
      "source": [],
      "metadata": {
        "id": "JHq_ymkMhphd"
      },
      "execution_count": null,
      "outputs": []
    }
  ]
}